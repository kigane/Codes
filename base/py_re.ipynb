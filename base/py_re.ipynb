{
 "cells": [
  {
   "cell_type": "code",
   "execution_count": 1,
   "metadata": {},
   "outputs": [],
   "source": [
    "import re"
   ]
  },
  {
   "cell_type": "markdown",
   "metadata": {},
   "source": [
    "## re.match\n",
    "尝试从字符串的起始位置匹配一个模式，如果不是起始位置匹配成功的话，match() 就返回 none。"
   ]
  },
  {
   "cell_type": "code",
   "execution_count": 2,
   "metadata": {},
   "outputs": [
    {
     "name": "stdout",
     "output_type": "stream",
     "text": [
      "<re.Match object; span=(0, 3), match='www'>\n",
      "(0, 3)\n",
      "None\n"
     ]
    }
   ],
   "source": [
    "match_obj = re.match('www', 'www.runoob.com') # 成功匹配返回一个Match对象\n",
    "print(match_obj)\n",
    "print(match_obj.span())\n",
    "print(re.match('com', 'www.runoob.com'))\n"
   ]
  },
  {
   "cell_type": "markdown",
   "metadata": {},
   "source": [
    "- ?用在*,+,{n,}后面表示非贪婪模式，*,+,{n,}在满足条件的前提下，匹配最少的字符串。\n",
    "- matchObj.group() 返回所有匹配到的字符，即整个正则表达式的匹配结果。默认放在group0,而group()方法的默认参数也是0。\n",
    "- matchObj.group(n) 返回正则表达式第n个分组匹配到的字符\n",
    "- matchObj.group(i, j, ...) 返回正则表达式第i, j, ...个分组匹配到的字符的元组\n",
    "- matchObj.span() 返回匹配到的位置索引[start, end)，同group。\n",
    "- matchObj.start(), matchObj.end()，同group。\n",
    "- matchObj.groupdict() 需要正则表达式中有已命名分组`(?P<GroupName>regex)`\n",
    "- matchObj.regs 保存所有group的span的元组\n",
    "- matchObj.re 使用的正则表达式是如何编译的"
   ]
  },
  {
   "cell_type": "code",
   "execution_count": 3,
   "metadata": {},
   "outputs": [
    {
     "name": "stdout",
     "output_type": "stream",
     "text": [
      "matchObj.group() :  Cats are smarter than dogs\n",
      "matchObj.group(1) :  Cats\n",
      "matchObj.group(2) :  smarter\n"
     ]
    },
    {
     "data": {
      "text/plain": [
       "('Cats', 'Cats are smarter than dogs')"
      ]
     },
     "execution_count": 3,
     "metadata": {},
     "output_type": "execute_result"
    }
   ],
   "source": [
    "line = \"Cats are smarter than dogs\"\n",
    "\n",
    "matchObj = re.match(r'(?P<G1>.*) are (?P<G2>.*?) .*', line, re.I)\n",
    "\n",
    "if matchObj:\n",
    "   print(\"matchObj.group() : \", matchObj.group()) # 所有匹配到的字符\n",
    "   print(\"matchObj.group(1) : \", matchObj.group(1))\n",
    "   print(\"matchObj.group(2) : \", matchObj.group(2)) # 不加问好则结果为smarter than\n",
    "else:\n",
    "   print(\"No match!!\")\n",
    "matchObj.group(1, 0)"
   ]
  },
  {
   "cell_type": "markdown",
   "metadata": {},
   "source": [
    "## re.search\n",
    "re.match只匹配字符串的开始，如果字符串开始不符合正则表达式，则匹配失败，函数返回None；而re.search匹配整个字符串，直到找到一个匹配。"
   ]
  },
  {
   "cell_type": "code",
   "execution_count": 4,
   "metadata": {},
   "outputs": [],
   "source": [
    "line = \"Cats are smarter than dogs\"\n",
    "\n",
    "match_obj = re.search(r'dogs', line, re.I)"
   ]
  },
  {
   "cell_type": "markdown",
   "metadata": {},
   "source": [
    "## re.sub\n",
    "用于替换字符串中的匹配项  \n",
    "`re.sub(pattern, repl, string, count=0, flags=0)`\n",
    "- pattern : 正则中的模式字符串。\n",
    "- repl : 替换的字符串，也可为一个函数。\n",
    "- string : 要被查找替换的原始字符串。\n",
    "- count : 模式匹配后替换的最大次数，默认 0 表示替换所有的匹配。"
   ]
  },
  {
   "cell_type": "code",
   "execution_count": 5,
   "metadata": {},
   "outputs": [
    {
     "name": "stdout",
     "output_type": "stream",
     "text": [
      "2004-959-559 \n",
      "2004959559\n"
     ]
    }
   ],
   "source": [
    "phone = \"2004-959-559 # 这是一个国外电话号码\"\n",
    "\n",
    "# 删除字符串中的 Python注释\n",
    "num = re.sub(r'#.*$', \"\", phone)\n",
    "print(num)\n",
    "\n",
    "# 删除非数字(-)的字符串\n",
    "num = re.sub(r'\\D', \"\", phone)\n",
    "print(num)"
   ]
  },
  {
   "cell_type": "markdown",
   "metadata": {},
   "source": [
    "repl是函数。该函数的参数为matchObj,返回值为要用于替换的字符串。"
   ]
  },
  {
   "cell_type": "code",
   "execution_count": 6,
   "metadata": {},
   "outputs": [
    {
     "name": "stdout",
     "output_type": "stream",
     "text": [
      "A46G8HFD1134\n"
     ]
    }
   ],
   "source": [
    "def double(matched):\n",
    "    value = int(matched.group('value'))\n",
    "    return str(value * 2)\n",
    "\n",
    "s = 'A23G4HFD567'\n",
    "print(re.sub('(?P<value>\\d+)', double, s))"
   ]
  },
  {
   "cell_type": "markdown",
   "metadata": {},
   "source": [
    "## re.compile\n",
    "用于编译正则表达式，生成一个正则表达式对象，供需要正则表达式的函数使用。  \n",
    "通常用字符串表达的正则表达式也会在内部被编译为对象。  \n",
    "提前编译通常仅在某个正则表达式会被反复利用多次时使用。"
   ]
  },
  {
   "cell_type": "markdown",
   "metadata": {},
   "source": [
    "## re.findall & re.finditer\n",
    "findall在字符串中找到正则表达式所匹配的所有子串，并返回一个列表，如果有多个匹配模式，则返回元组列表，如果没有找到匹配的，则返回空列表。finditer则返回迭代器，其他同findall\n",
    "\n",
    "注意： match 和 search 是匹配一次 findall 匹配所有。  \n",
    "`findall(string[, pos[, endpos]])`\n",
    "- string : 待匹配的字符串。\n",
    "- pos : 可选参数，指定字符串的起始位置，默认为 0。\n",
    "- endpos : 可选参数，指定字符串的结束位置，默认为字符串的长度。"
   ]
  },
  {
   "cell_type": "code",
   "execution_count": 7,
   "metadata": {},
   "outputs": [
    {
     "name": "stdout",
     "output_type": "stream",
     "text": [
      "['123', '456']\n",
      "['88', '12']\n"
     ]
    }
   ],
   "source": [
    "pattern = re.compile(r'\\d+')   # 查找数字\n",
    "result1 = pattern.findall('runoob 123 google 456')\n",
    "result2 = pattern.findall('run88oob123google456', 0, 10)\n",
    "\n",
    "print(result1)\n",
    "print(result2)"
   ]
  },
  {
   "cell_type": "code",
   "execution_count": 8,
   "metadata": {},
   "outputs": [
    {
     "data": {
      "text/plain": [
       "[('width', '20'), ('height', '10')]"
      ]
     },
     "execution_count": 8,
     "metadata": {},
     "output_type": "execute_result"
    }
   ],
   "source": [
    "re.findall(r'(\\w+)=(\\d+)', 'set width=20 and height=10')"
   ]
  },
  {
   "cell_type": "markdown",
   "metadata": {},
   "source": [
    "## re.split\n",
    "`re.split(pattern, string[, maxsplit=0, flags=0])`\n",
    "- maxsplit:分隔次数，maxsplit=1，只分隔一次，默认为 0，不限制次数。\n",
    "- 对于一个找不到匹配的字符串，split 不会对其作出分割"
   ]
  },
  {
   "cell_type": "code",
   "execution_count": 9,
   "metadata": {},
   "outputs": [
    {
     "data": {
      "text/plain": [
       "['runoob', 'runoob', 'runoob', '']"
      ]
     },
     "execution_count": 9,
     "metadata": {},
     "output_type": "execute_result"
    }
   ],
   "source": [
    "re.split('\\W+', 'runoob, runoob, runoob.')"
   ]
  },
  {
   "cell_type": "code",
   "execution_count": 10,
   "metadata": {},
   "outputs": [
    {
     "data": {
      "text/plain": [
       "['hello world']"
      ]
     },
     "execution_count": 10,
     "metadata": {},
     "output_type": "execute_result"
    }
   ],
   "source": [
    "re.split('a+', 'hello world')"
   ]
  }
 ],
 "metadata": {
  "kernelspec": {
   "display_name": "Python 3.9.7 64-bit",
   "language": "python",
   "name": "python3"
  },
  "language_info": {
   "codemirror_mode": {
    "name": "ipython",
    "version": 3
   },
   "file_extension": ".py",
   "mimetype": "text/x-python",
   "name": "python",
   "nbconvert_exporter": "python",
   "pygments_lexer": "ipython3",
   "version": "3.9.7"
  },
  "orig_nbformat": 4,
  "vscode": {
   "interpreter": {
    "hash": "4865490da6699370054a893614d25bfe7019e07f85c7b294178de45e1c56cb00"
   }
  }
 },
 "nbformat": 4,
 "nbformat_minor": 2
}
